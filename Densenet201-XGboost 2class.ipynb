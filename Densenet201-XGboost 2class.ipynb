{
  "nbformat": 4,
  "nbformat_minor": 2,
  "metadata": {
    "accelerator": "GPU",
    "colab": {
      "name": "test_1_densenet201_xgboost_2_class.ipynb",
      "provenance": [],
      "collapsed_sections": []
    },
    "kernelspec": {
      "display_name": "Python 3",
      "name": "python3"
    },
    "language_info": {
      "name": "python"
    }
  },
  "cells": [
    {
      "cell_type": "markdown",
      "source": [
        "Import Libraries"
      ],
      "metadata": {}
    },
    {
      "cell_type": "code",
      "execution_count": 3,
      "source": [
        "import xgboost as xgb\r\n",
        "from sklearn import metrics\r\n",
        "import matplotlib.pyplot as plt\r\n",
        "import tensorflow as tf\r\n",
        "from sklearn.model_selection import KFold, train_test_split\r\n",
        "import numpy as np\r\n",
        "from tensorflow.keras.applications.densenet import preprocess_input\r\n",
        "from tensorflow.keras.models import Model\r\n",
        "import cv2\r\n",
        "import os"
      ],
      "outputs": [],
      "metadata": {
        "id": "6Jz8UMVI01Nd"
      }
    },
    {
      "cell_type": "markdown",
      "source": [
        "Load and preprocess Data"
      ],
      "metadata": {}
    },
    {
      "cell_type": "code",
      "execution_count": 4,
      "source": [
        "def load_images_from_folder(folder):\r\n",
        "    images = []\r\n",
        "    for filename in os.listdir(folder):\r\n",
        "        img = cv2.imread(os.path.join(folder,filename), 1)\r\n",
        "        img = cv2.resize(img,(224,224))\r\n",
        "        img = preprocess_input(img)\r\n",
        "        if img is not None:\r\n",
        "            images.append(img)\r\n",
        "    return images\r\n",
        "\r\n",
        "corona = load_images_from_folder(\"./COVID-19-master/X-Ray Image DataSet/Covid-19\")\r\n",
        "no_find = load_images_from_folder(\"./COVID-19-master/X-Ray Image DataSet/No_findings\")\r\n",
        "total = corona + no_find \r\n",
        "\r\n",
        "label0 = []\r\n",
        "for j in range(len(corona)):\r\n",
        "  label0.append(0)\r\n",
        "\r\n",
        "label1 = []\r\n",
        "for j in range(len(no_find)):\r\n",
        "  label1.append(1)\r\n",
        "\r\n",
        "label = label0 + label1\r\n",
        "\r\n",
        "dataset = np.array(total)\r\n",
        "label = np.array(label)"
      ],
      "outputs": [],
      "metadata": {
        "id": "yvI0FDo8p9Xw"
      }
    },
    {
      "cell_type": "markdown",
      "source": [
        "Feature Extracting"
      ],
      "metadata": {}
    },
    {
      "cell_type": "code",
      "execution_count": null,
      "source": [
        "modeldensenet = tf.keras.applications.DenseNet201()"
      ],
      "outputs": [],
      "metadata": {
        "id": "VmaU87dLhWuw",
        "colab": {
          "base_uri": "https://localhost:8080/"
        },
        "outputId": "19d7b604-4b89-4d8b-8ab0-d3b3ec9c5b67"
      }
    },
    {
      "cell_type": "code",
      "execution_count": 7,
      "source": [
        "modeldn = Model(inputs=modeldensenet.inputs, outputs=modeldensenet.layers[-2].output)\r\n",
        "xtrain, xtest, ytrain, ytest = train_test_split(dataset, label, test_size=0.2, random_state= 47)\r\n",
        "\r\n",
        "feature_extractor= modeldn.predict(dataset)\r\n",
        "Xfull = feature_extractor.reshape(feature_extractor.shape[0], -1)\r\n",
        "\r\n",
        "feature_extractor= modeldn.predict(xtrain)\r\n",
        "xtrain = feature_extractor.reshape(feature_extractor.shape[0], -1)"
      ],
      "outputs": [],
      "metadata": {
        "id": "w1f82yh2uQM2"
      }
    },
    {
      "cell_type": "markdown",
      "source": [
        "Classification"
      ],
      "metadata": {}
    },
    {
      "cell_type": "code",
      "execution_count": null,
      "source": [
        "model = xgb.XGBClassifier(booster = 'gbtree',\r\n",
        "                           objective = \"binary:logitraw\",\r\n",
        "                           reg_lambda = 1,\r\n",
        "                           gamma = 0,\r\n",
        "                           min_child_weight = 2,\r\n",
        "                           n_estimators = 200,\r\n",
        "                           base_score = 0.8,\r\n",
        "                           learning_rate=0.157,\r\n",
        "                           max_depth=6,)\r\n",
        "\r\n",
        "model.fit(xtrain, ytrain)\r\n",
        "\r\n",
        "X_test_feature = modeldn.predict(xtest)\r\n",
        "X_test_features = X_test_feature.reshape(X_test_feature.shape[0], -1)\r\n",
        "prediction = model.predict(X_test_features)\r\n",
        "\r\n",
        "print(\"Accuracy = \", metrics.accuracy_score(ytest, prediction))"
      ],
      "outputs": [],
      "metadata": {
        "colab": {
          "base_uri": "https://localhost:8080/"
        },
        "id": "Gzt23RlUqJbQ",
        "outputId": "34053091-f0eb-429f-e6d0-e0a65c3267d6"
      }
    },
    {
      "cell_type": "code",
      "execution_count": null,
      "source": [
        "from sklearn.metrics import *\r\n",
        "\r\n",
        "cv = KFold(n_splits=5, shuffle=True, random_state=39)\r\n",
        "avgacc = 0\r\n",
        "f = 0\r\n",
        "for train_ix, test_ix in cv.split(Xfull):\r\n",
        "    result={}\r\n",
        "    train_X, test_X = Xfull[train_ix], Xfull[test_ix]\r\n",
        "    train_y, Y_test = label[train_ix], label[test_ix]\r\n",
        "    model.fit(train_X, train_y)\r\n",
        "    Y_pred = model.predict(test_X)\r\n",
        "    print(f\"\\nConfusion matrix fold {f} :\")\r\n",
        "    f = f+1\r\n",
        "    result[\"Accuracy score\"] = accuracy_score(Y_test, Y_pred)\r\n",
        "    avgacc += result[\"Accuracy score\"]\r\n",
        "    result[\"confusion matrix\"] = confusion_matrix(Y_test, Y_pred)\r\n",
        "    result[\"f1 score\"] = f1_score(Y_test, Y_pred, average=\"macro\")\r\n",
        "    result[\"precision score\"] = precision_score(Y_test, Y_pred, average=\"macro\")\r\n",
        "      \r\n",
        "    result[\"Sensitivity\"] = result[\"confusion matrix\"][0,0] / (result[\"confusion matrix\"][0,0] + result[\"confusion matrix\"][0,1])\r\n",
        "    result[\"Specifity\"] = result[\"confusion matrix\"][1,1] / (result[\"confusion matrix\"][1,0] + result[\"confusion matrix\"][1,1])\r\n",
        "      \r\n",
        "    print(f\"\\nAccuracy score : \", result[\"Accuracy score\"])\r\n",
        "    print(f\"\\nconfusion matrix : \\n\", result[\"confusion matrix\"])\r\n",
        "    print(f\"\\nf1 score : \", result[\"f1 score\"])\r\n",
        "    print(f\"\\nprecision score : \", result[\"precision score\"])\r\n",
        "      \r\n",
        "    print(f\"\\nSpecifity : \", result[\"Specifity\"])\r\n",
        "    print(f\"\\nSensitivity : \", result[\"Sensitivity\"])\r\n",
        "    print(f\"\\n================================================================\")\r\n",
        "print(avgacc/5)    "
      ],
      "outputs": [],
      "metadata": {
        "colab": {
          "base_uri": "https://localhost:8080/"
        },
        "id": "U_MU7VRqq0Op",
        "outputId": "8d7f8032-7c5d-4c27-e9ff-57c74f28ae94"
      }
    }
  ]
}