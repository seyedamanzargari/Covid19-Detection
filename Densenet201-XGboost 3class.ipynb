{
  "nbformat": 4,
  "nbformat_minor": 2,
  "metadata": {
    "accelerator": "GPU",
    "colab": {
      "name": "test_1_densenet201_xgboost_3_class (1).ipynb",
      "provenance": [],
      "collapsed_sections": []
    },
    "kernelspec": {
      "display_name": "Python 3",
      "name": "python3"
    },
    "language_info": {
      "name": "python"
    }
  },
  "cells": [
    {
      "cell_type": "markdown",
      "source": [
        "Import Libraries"
      ],
      "metadata": {}
    },
    {
      "cell_type": "code",
      "execution_count": null,
      "source": [
        "import xgboost as xgb\r\n",
        "from sklearn import metrics\r\n",
        "from sklearn.model_selection import train_test_split\r\n",
        "import numpy as np\r\n",
        "from tensorflow.keras.applications.densenet import preprocess_input\r\n",
        "from tensorflow.keras.models import Model\r\n",
        "import cv2\r\n",
        "import os\r\n",
        "import tensorflow as tf"
      ],
      "outputs": [],
      "metadata": {
        "id": "6Jz8UMVI01Nd"
      }
    },
    {
      "cell_type": "markdown",
      "source": [
        "Load and preprocess Data"
      ],
      "metadata": {}
    },
    {
      "cell_type": "code",
      "execution_count": null,
      "source": [
        "def load_images_from_folder(folder):\r\n",
        "    images = []\r\n",
        "    for filename in os.listdir(folder):\r\n",
        "        img = cv2.imread(os.path.join(folder,filename), 1)\r\n",
        "        img = cv2.resize(img,(224,224))\r\n",
        "        img = preprocess_input(img)\r\n",
        "        if img is not None:\r\n",
        "            images.append(img)\r\n",
        "    return images"
      ],
      "outputs": [],
      "metadata": {
        "id": "n5rJYi8TgmZP"
      }
    },
    {
      "cell_type": "code",
      "execution_count": null,
      "source": [
        "corona = load_images_from_folder(\"./COVID-19-master/X-Ray Image DataSet/Covid-19\")\r\n",
        "no_find = load_images_from_folder(\"./COVID-19-master/X-Ray Image DataSet/No_findings\")\r\n",
        "pneumonia = load_images_from_folder(\"./COVID-19-master/X-Ray Image DataSet/Pneumonia\")\r\n",
        "total = corona + no_find + pneumonia\r\n",
        "\r\n",
        "\r\n",
        "key = {0 : \"corona\", 1 : \"nofind\", 2 : \"pneumonia\"}\r\n",
        "label0 = []\r\n",
        "for j in range(len(corona)):\r\n",
        "  label0.append(0)\r\n",
        "label1 = []\r\n",
        "for j in range(len(no_find)):\r\n",
        "  label1.append(1)\r\n",
        "label2 = []\r\n",
        "for j in range(len(pneumonia)):\r\n",
        "  label2.append(2)\r\n",
        "label = label0 + label1 + label2\r\n",
        "\r\n",
        "dataset = np.array(total)\r\n",
        "label = np.array(label)"
      ],
      "outputs": [],
      "metadata": {
        "id": "yvI0FDo8p9Xw"
      }
    },
    {
      "cell_type": "markdown",
      "source": [
        "Feature Extracting"
      ],
      "metadata": {}
    },
    {
      "cell_type": "code",
      "execution_count": null,
      "source": [
        "modeldn = tf.keras.applications.DenseNet201()\r\n",
        "modeldn = Model(inputs=modeldn.inputs, outputs=modeldn.layers[-2].output)\r\n",
        "\r\n",
        "xtrain, xtest, ytrain, ytest = train_test_split(dataset, label, test_size=0.2, random_state=85)\r\n",
        "\r\n",
        "feature_extractor= modeldn.predict(xtrain)\r\n",
        "xtrain = feature_extractor.reshape(feature_extractor.shape[0], -1)"
      ],
      "outputs": [],
      "metadata": {
        "id": "wH3nog_-0BVc"
      }
    },
    {
      "cell_type": "markdown",
      "source": [
        "Classification"
      ],
      "metadata": {}
    },
    {
      "cell_type": "code",
      "execution_count": null,
      "source": [
        "model = xgb.XGBClassifier(booster='gbtree',\r\n",
        "                           learning_rate=0.15,\r\n",
        "                           max_depth=2,\r\n",
        "                           min_child_weight=2,\r\n",
        "                           n_estimators=300,\r\n",
        "                           n_jobs=1,\r\n",
        "                           objective='multi:softmax',\r\n",
        "                           reg_lambda=0,\r\n",
        "                           num_class=3)\r\n",
        "model.fit(xtrain, ytrain)\r\n",
        "X_test_feature = modeldn.predict(xtest)\r\n",
        "X_test_features = X_test_feature.reshape(X_test_feature.shape[0], -1)\r\n",
        "prediction = model.predict(X_test_features)\r\n",
        "print(\"Accuracy = \", metrics.accuracy_score(ytest, prediction))"
      ],
      "outputs": [
        {
          "output_type": "stream",
          "name": "stdout",
          "text": [
            "Accuracy =  0.9244444444444444\n"
          ]
        }
      ],
      "metadata": {
        "colab": {
          "base_uri": "https://localhost:8080/"
        },
        "id": "mVha0wcgbYSi",
        "outputId": "5eaf8204-c0b9-48a5-d419-ea3454a3ae5d"
      }
    },
    {
      "cell_type": "code",
      "execution_count": null,
      "source": [
        "from sklearn.metrics import confusion_matrix, classification_report\r\n",
        "cm = confusion_matrix(ytest, prediction)\r\n",
        "print(cm)\r\n",
        "print(classification_report(ytest, prediction))"
      ],
      "outputs": [],
      "metadata": {
        "colab": {
          "base_uri": "https://localhost:8080/"
        },
        "id": "MoKguv0WyzU3",
        "outputId": "4998b629-a296-4d0b-cfa2-071e4bfcf5ed"
      }
    }
  ]
}